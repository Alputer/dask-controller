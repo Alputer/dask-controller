{
 "cells": [
  {
   "cell_type": "code",
   "execution_count": 1,
   "metadata": {},
   "outputs": [
    {
     "data": {
      "text/plain": [
       "[]"
      ]
     },
     "execution_count": 1,
     "metadata": {},
     "output_type": "execute_result"
    }
   ],
   "source": [
    "from dask_gateway import Gateway\n",
    "from dask_gateway.auth import BasicAuth\n",
    "\n",
    "gateway = Gateway(address=\"http://194.12.178.4:30081\", auth=BasicAuth(username=\"alputer\", password=\"dummy\"))\n",
    "gateway.list_clusters()"
   ]
  },
  {
   "cell_type": "code",
   "execution_count": 2,
   "metadata": {},
   "outputs": [],
   "source": [
    "options = gateway.cluster_options()"
   ]
  },
  {
   "cell_type": "code",
   "execution_count": 3,
   "metadata": {},
   "outputs": [
    {
     "name": "stdout",
     "output_type": "stream",
     "text": [
      "Options<worker_cores=0.5, worker_memory=0.5>\n"
     ]
    }
   ],
   "source": [
    "options"
   ]
  },
  {
   "cell_type": "code",
   "execution_count": 4,
   "metadata": {},
   "outputs": [
    {
     "name": "stderr",
     "output_type": "stream",
     "text": [
      "/home/alputer/.virtualenvs/reana/lib/python3.8/site-packages/dask_gateway/client.py:702: GatewayWarning: Adapt with `maximum=6, minimum=2` workers would exceed resource limit of 3 workers. Using `maximum=3, minimum=2` instead.\n",
      "  warnings.warn(GatewayWarning(msg[\"msg\"]))\n"
     ]
    },
    {
     "data": {
      "text/html": [
       "<div style='background-color: #f2f2f2; display: inline-block; padding: 10px; border: 1px solid #999999;'>\n",
       "  <h3>GatewayCluster</h3>\n",
       "  <ul>\n",
       "    <li><b>Name: </b>default.395a1777d2b94a6b992ccb89c92fb6e4\n",
       "    <li><b>Dashboard: </b><a href='http://194.12.178.4:30081/clusters/default.395a1777d2b94a6b992ccb89c92fb6e4/status' target='_blank'>http://194.12.178.4:30081/clusters/default.395a1777d2b94a6b992ccb89c92fb6e4/status</a>\n",
       "  </ul>\n",
       "</div>\n"
      ],
      "text/plain": [
       "GatewayCluster<default.395a1777d2b94a6b992ccb89c92fb6e4, status=running>"
      ]
     },
     "metadata": {},
     "output_type": "display_data"
    }
   ],
   "source": [
    "#cluster = gateway.new_cluster(worker_cores=1, worker_memory=0.2, image=\"daskgateway/dask-gateway:latest\") #config2.yaml\n",
    "cluster = gateway.new_cluster() #config.yaml\n",
    "cluster.scale(5)\n",
    "cluster"
   ]
  },
  {
   "cell_type": "code",
   "execution_count": 5,
   "metadata": {},
   "outputs": [
    {
     "name": "stderr",
     "output_type": "stream",
     "text": [
      "/home/alputer/.virtualenvs/reana/lib/python3.8/site-packages/distributed/client.py:1388: VersionMismatchWarning: Mismatched versions found\n",
      "\n",
      "+-------------+----------------+----------------+---------+\n",
      "| Package     | Client         | Scheduler      | Workers |\n",
      "+-------------+----------------+----------------+---------+\n",
      "| dask        | 2023.5.0       | 2024.1.0       | None    |\n",
      "| distributed | 2023.5.0       | 2024.1.0       | None    |\n",
      "| msgpack     | 1.0.8          | 1.0.7          | None    |\n",
      "| python      | 3.8.12.final.0 | 3.11.7.final.0 | None    |\n",
      "| toolz       | 0.12.1         | 0.12.0         | None    |\n",
      "| tornado     | 6.4.1          | 6.4            | None    |\n",
      "+-------------+----------------+----------------+---------+\n",
      "  warnings.warn(version_module.VersionMismatchWarning(msg[0][\"warning\"]))\n"
     ]
    }
   ],
   "source": [
    "client = cluster.get_client()"
   ]
  },
  {
   "cell_type": "code",
   "execution_count": 6,
   "metadata": {},
   "outputs": [
    {
     "data": {
      "text/html": [
       "<div>\n",
       "    <div style=\"width: 24px; height: 24px; background-color: #e1e1e1; border: 3px solid #9D9D9D; border-radius: 5px; position: absolute;\"> </div>\n",
       "    <div style=\"margin-left: 48px;\">\n",
       "        <h3 style=\"margin-bottom: 0px;\">Client</h3>\n",
       "        <p style=\"color: #9D9D9D; margin-bottom: 0px;\">Client-ce818264-2f03-11ef-b01d-3c219ccee023</p>\n",
       "        <table style=\"width: 100%; text-align: left;\">\n",
       "\n",
       "        <tr>\n",
       "        \n",
       "            <td style=\"text-align: left;\"><strong>Connection method:</strong> Cluster object</td>\n",
       "            <td style=\"text-align: left;\"><strong>Cluster type:</strong> dask_gateway.GatewayCluster</td>\n",
       "        \n",
       "        </tr>\n",
       "\n",
       "        \n",
       "            <tr>\n",
       "                <td style=\"text-align: left;\">\n",
       "                    <strong>Dashboard: </strong> <a href=\"http://194.12.178.4:30081/clusters/default.395a1777d2b94a6b992ccb89c92fb6e4/status\" target=\"_blank\">http://194.12.178.4:30081/clusters/default.395a1777d2b94a6b992ccb89c92fb6e4/status</a>\n",
       "                </td>\n",
       "                <td style=\"text-align: left;\"></td>\n",
       "            </tr>\n",
       "        \n",
       "\n",
       "        </table>\n",
       "\n",
       "        \n",
       "\n",
       "        \n",
       "            <details>\n",
       "            <summary style=\"margin-bottom: 20px;\"><h3 style=\"display: inline;\">Cluster Info</h3></summary>\n",
       "            <div style='background-color: #f2f2f2; display: inline-block; padding: 10px; border: 1px solid #999999;'>\n",
       "  <h3>GatewayCluster</h3>\n",
       "  <ul>\n",
       "    <li><b>Name: </b>default.395a1777d2b94a6b992ccb89c92fb6e4\n",
       "    <li><b>Dashboard: </b><a href='http://194.12.178.4:30081/clusters/default.395a1777d2b94a6b992ccb89c92fb6e4/status' target='_blank'>http://194.12.178.4:30081/clusters/default.395a1777d2b94a6b992ccb89c92fb6e4/status</a>\n",
       "  </ul>\n",
       "</div>\n",
       "\n",
       "            </details>\n",
       "        \n",
       "\n",
       "    </div>\n",
       "</div>"
      ],
      "text/plain": [
       "<Client: 'tls://10.244.0.219:8786' processes=0 threads=0, memory=0 B>"
      ]
     },
     "execution_count": 6,
     "metadata": {},
     "output_type": "execute_result"
    }
   ],
   "source": [
    "client"
   ]
  },
  {
   "cell_type": "code",
   "execution_count": null,
   "metadata": {},
   "outputs": [],
   "source": [
    "import dask.array as da\n",
    "\n",
    "a = da.random.normal(size=(10, 10), chunks=(5, 5))\n",
    "\n",
    "a.mean().compute()"
   ]
  },
  {
   "cell_type": "code",
   "execution_count": null,
   "metadata": {},
   "outputs": [],
   "source": []
  }
 ],
 "metadata": {
  "kernelspec": {
   "display_name": "Python 3 (ipykernel)",
   "language": "python",
   "name": "python3"
  },
  "language_info": {
   "codemirror_mode": {
    "name": "ipython",
    "version": 3
   },
   "file_extension": ".py",
   "mimetype": "text/x-python",
   "name": "python",
   "nbconvert_exporter": "python",
   "pygments_lexer": "ipython3",
   "version": "3.8.12"
  }
 },
 "nbformat": 4,
 "nbformat_minor": 4
}
